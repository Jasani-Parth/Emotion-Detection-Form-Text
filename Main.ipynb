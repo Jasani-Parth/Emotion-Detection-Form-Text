{
 "cells": [
  {
   "cell_type": "code",
   "execution_count": 342,
   "id": "8e8082fd",
   "metadata": {},
   "outputs": [],
   "source": [
    "import numpy as np\n",
    "import pandas as pd\n",
    "import matplotlib.pyplot as plt\n",
    "import seaborn as sb"
   ]
  },
  {
   "cell_type": "code",
   "execution_count": 343,
   "id": "6834e1fb",
   "metadata": {
    "scrolled": true
   },
   "outputs": [],
   "source": [
    "# !pip install neattext"
   ]
  },
  {
   "cell_type": "code",
   "execution_count": 344,
   "id": "30dc9ddb",
   "metadata": {},
   "outputs": [],
   "source": [
    "import neattext.functions as ntf \n",
    "# this library is use for cleaning text "
   ]
  },
  {
   "cell_type": "code",
   "execution_count": 345,
   "id": "5f00dd91",
   "metadata": {},
   "outputs": [],
   "source": [
    "df1 = pd.read_csv(\"./Dataset/training.csv\")\n",
    "df_test = pd.read_csv(\"./Dataset/test.csv\")\n",
    "df_validation = pd.read_csv(\"./Dataset/validation.csv\")"
   ]
  },
  {
   "cell_type": "code",
   "execution_count": 346,
   "id": "f9beafd9",
   "metadata": {},
   "outputs": [],
   "source": [
    "emotion_classes = {\n",
    "    0 : 'sadness',\n",
    "    1 : 'joy',\n",
    "    2 : 'love',\n",
    "    3 : 'anger',\n",
    "    4 : 'fear',\n",
    "    5 : 'confused'\n",
    "}"
   ]
  },
  {
   "cell_type": "code",
   "execution_count": 347,
   "id": "63b70aec",
   "metadata": {},
   "outputs": [],
   "source": [
    "emotion_classes_str = {\n",
    "    'sadness' : 0,\n",
    "    'joy' : 1,\n",
    "    'love' : 2,\n",
    "    'anger' : 3,\n",
    "    'fear' : 4,\n",
    "    'confused' : 5\n",
    "}"
   ]
  },
  {
   "cell_type": "markdown",
   "id": "f7fb368b",
   "metadata": {},
   "source": [
    "# Data Exploration"
   ]
  },
  {
   "cell_type": "code",
   "execution_count": 348,
   "id": "e17b81ce",
   "metadata": {},
   "outputs": [
    {
     "data": {
      "text/plain": [
       "(16000, 2)"
      ]
     },
     "execution_count": 348,
     "metadata": {},
     "output_type": "execute_result"
    }
   ],
   "source": [
    "df1.shape # this is used for model trainning"
   ]
  },
  {
   "cell_type": "code",
   "execution_count": 349,
   "id": "b48fb908",
   "metadata": {},
   "outputs": [
    {
     "data": {
      "text/plain": [
       "(2000, 2)"
      ]
     },
     "execution_count": 349,
     "metadata": {},
     "output_type": "execute_result"
    }
   ],
   "source": [
    "df_test.shape # this is used for testing out model"
   ]
  },
  {
   "cell_type": "code",
   "execution_count": 350,
   "id": "414b3888",
   "metadata": {},
   "outputs": [
    {
     "data": {
      "text/plain": [
       "(2000, 2)"
      ]
     },
     "execution_count": 350,
     "metadata": {},
     "output_type": "execute_result"
    }
   ],
   "source": [
    "df_validation.shape # this is used for hyper-parameter testing"
   ]
  },
  {
   "cell_type": "code",
   "execution_count": 351,
   "id": "f7850eae",
   "metadata": {},
   "outputs": [
    {
     "data": {
      "text/html": [
       "<div>\n",
       "<style scoped>\n",
       "    .dataframe tbody tr th:only-of-type {\n",
       "        vertical-align: middle;\n",
       "    }\n",
       "\n",
       "    .dataframe tbody tr th {\n",
       "        vertical-align: top;\n",
       "    }\n",
       "\n",
       "    .dataframe thead th {\n",
       "        text-align: right;\n",
       "    }\n",
       "</style>\n",
       "<table border=\"1\" class=\"dataframe\">\n",
       "  <thead>\n",
       "    <tr style=\"text-align: right;\">\n",
       "      <th></th>\n",
       "      <th>text</th>\n",
       "      <th>label</th>\n",
       "    </tr>\n",
       "  </thead>\n",
       "  <tbody>\n",
       "    <tr>\n",
       "      <th>0</th>\n",
       "      <td>i didnt feel humiliated</td>\n",
       "      <td>0</td>\n",
       "    </tr>\n",
       "    <tr>\n",
       "      <th>1</th>\n",
       "      <td>i can go from feeling so hopeless to so damned...</td>\n",
       "      <td>0</td>\n",
       "    </tr>\n",
       "    <tr>\n",
       "      <th>2</th>\n",
       "      <td>im grabbing a minute to post i feel greedy wrong</td>\n",
       "      <td>3</td>\n",
       "    </tr>\n",
       "    <tr>\n",
       "      <th>3</th>\n",
       "      <td>i am ever feeling nostalgic about the fireplac...</td>\n",
       "      <td>2</td>\n",
       "    </tr>\n",
       "    <tr>\n",
       "      <th>4</th>\n",
       "      <td>i am feeling grouchy</td>\n",
       "      <td>3</td>\n",
       "    </tr>\n",
       "  </tbody>\n",
       "</table>\n",
       "</div>"
      ],
      "text/plain": [
       "                                                text  label\n",
       "0                            i didnt feel humiliated      0\n",
       "1  i can go from feeling so hopeless to so damned...      0\n",
       "2   im grabbing a minute to post i feel greedy wrong      3\n",
       "3  i am ever feeling nostalgic about the fireplac...      2\n",
       "4                               i am feeling grouchy      3"
      ]
     },
     "execution_count": 351,
     "metadata": {},
     "output_type": "execute_result"
    }
   ],
   "source": [
    "df1.head() # so data frame has 2 columns one is text means our X and one is prediction means our Y"
   ]
  },
  {
   "cell_type": "code",
   "execution_count": 352,
   "id": "c725e4fd",
   "metadata": {},
   "outputs": [
    {
     "data": {
      "text/plain": [
       "array([0, 3, 2, 5, 4, 1], dtype=int64)"
      ]
     },
     "execution_count": 352,
     "metadata": {},
     "output_type": "execute_result"
    }
   ],
   "source": [
    "df1.label.unique()"
   ]
  },
  {
   "cell_type": "code",
   "execution_count": 353,
   "id": "f254d1c7",
   "metadata": {},
   "outputs": [
    {
     "data": {
      "text/plain": [
       "array([['ive been taking or milligrams or times recommended amount and ive fallen asleep a lot faster but i also feel like so funny',\n",
       "        5],\n",
       "       ['i have seen heard and read over the past couple of days i am left feeling impressed by more than a few companies',\n",
       "        5],\n",
       "       ['i keep feeling pleasantly surprised at his supportiveness and also his ease in new situations',\n",
       "        5]], dtype=object)"
      ]
     },
     "execution_count": 353,
     "metadata": {},
     "output_type": "execute_result"
    }
   ],
   "source": [
    "np.array(df1[df1.label == 5].head(3))"
   ]
  },
  {
   "cell_type": "code",
   "execution_count": 354,
   "id": "fbb9109e",
   "metadata": {},
   "outputs": [],
   "source": [
    "# here i notice that there isn't any mention about label 5 in Dataset so i will take it as confused"
   ]
  },
  {
   "cell_type": "code",
   "execution_count": 355,
   "id": "2cbea5f6",
   "metadata": {
    "scrolled": true
   },
   "outputs": [
    {
     "data": {
      "text/plain": [
       "text     0\n",
       "label    0\n",
       "dtype: int64"
      ]
     },
     "execution_count": 355,
     "metadata": {},
     "output_type": "execute_result"
    }
   ],
   "source": [
    "# check whethere there is any \"NA\" values or not \n",
    "df1.isna().sum()"
   ]
  },
  {
   "cell_type": "code",
   "execution_count": 356,
   "id": "67859d0d",
   "metadata": {
    "scrolled": true
   },
   "outputs": [
    {
     "data": {
      "text/plain": [
       "text     0\n",
       "label    0\n",
       "dtype: int64"
      ]
     },
     "execution_count": 356,
     "metadata": {},
     "output_type": "execute_result"
    }
   ],
   "source": [
    "df_test.isna().sum()"
   ]
  },
  {
   "cell_type": "code",
   "execution_count": 357,
   "id": "7e516e8b",
   "metadata": {},
   "outputs": [
    {
     "data": {
      "text/plain": [
       "text     0\n",
       "label    0\n",
       "dtype: int64"
      ]
     },
     "execution_count": 357,
     "metadata": {},
     "output_type": "execute_result"
    }
   ],
   "source": [
    "df_validation.isna().sum()"
   ]
  },
  {
   "cell_type": "code",
   "execution_count": 358,
   "id": "943e22f1",
   "metadata": {},
   "outputs": [],
   "source": [
    "num_values1 = dict(df1['label'].value_counts())\n",
    "num_values2 = dict(df_test['label'].value_counts())\n",
    "num_values3 = dict(df_validation['label'].value_counts())"
   ]
  },
  {
   "cell_type": "code",
   "execution_count": 359,
   "id": "8cf6084c",
   "metadata": {},
   "outputs": [
    {
     "name": "stdout",
     "output_type": "stream",
     "text": [
      "['sadness', 'joy', 'love', 'anger', 'fear', 'confused'] [4666, 5362, 1304, 2159, 1937, 572]\n"
     ]
    }
   ],
   "source": [
    "X1 = list(map(lambda x : emotion_classes[x] ,np.sort(df1['label'].unique())))\n",
    "Y1 = list(map(lambda x : num_values1[x], np.sort(df1['label'].unique())))\n",
    "print(X1,Y1)"
   ]
  },
  {
   "cell_type": "code",
   "execution_count": 360,
   "id": "f1d629ed",
   "metadata": {},
   "outputs": [
    {
     "data": {
      "text/plain": [
       "<BarContainer object of 6 artists>"
      ]
     },
     "execution_count": 360,
     "metadata": {},
     "output_type": "execute_result"
    },
    {
     "data": {
      "image/png": "[encoded data removed]",
      "text/plain": [
       "<Figure size 432x288 with 1 Axes>"
      ]
     },
     "metadata": {
      "needs_background": "light"
     },
     "output_type": "display_data"
    }
   ],
   "source": [
    "plt.bar(X1,Y1,width=0.8)"
   ]
  },
  {
   "cell_type": "code",
   "execution_count": 361,
   "id": "33d8c2ec",
   "metadata": {},
   "outputs": [
    {
     "name": "stdout",
     "output_type": "stream",
     "text": [
      "['sadness', 'joy', 'love', 'anger', 'fear', 'confused'] [581, 695, 159, 275, 224, 66]\n"
     ]
    }
   ],
   "source": [
    "X2 = list(map(lambda x : emotion_classes[x] ,np.sort(df_test['label'].unique())))\n",
    "Y2 = list(map(lambda x : num_values2[x], np.sort(df_test['label'].unique())))\n",
    "print(X2,Y2)"
   ]
  },
  {
   "cell_type": "code",
   "execution_count": 362,
   "id": "5b211a5a",
   "metadata": {},
   "outputs": [
    {
     "data": {
      "text/plain": [
       "<BarContainer object of 6 artists>"
      ]
     },
     "execution_count": 362,
     "metadata": {},
     "output_type": "execute_result"
    },
    {
     "data": {
      "image/png": "[encoded data removed]",
      "text/plain": [
       "<Figure size 432x288 with 1 Axes>"
      ]
     },
     "metadata": {
      "needs_background": "light"
     },
     "output_type": "display_data"
    }
   ],
   "source": [
    "plt.bar(X2,Y2,width=0.8)"
   ]
  },
  {
   "cell_type": "code",
   "execution_count": 363,
   "id": "2aec9726",
   "metadata": {},
   "outputs": [
    {
     "name": "stdout",
     "output_type": "stream",
     "text": [
      "['sadness', 'joy', 'love', 'anger', 'fear', 'confused'] [550, 704, 178, 275, 212, 81]\n"
     ]
    }
   ],
   "source": [
    "X3 = list(map(lambda x : emotion_classes[x] ,np.sort(df_validation['label'].unique())))\n",
    "Y3 = list(map(lambda x : num_values3[x], np.sort(df_validation['label'].unique())))\n",
    "print(X3,Y3)"
   ]
  },
  {
   "cell_type": "code",
   "execution_count": 364,
   "id": "7b50e928",
   "metadata": {},
   "outputs": [
    {
     "data": {
      "text/plain": [
       "<BarContainer object of 6 artists>"
      ]
     },
     "execution_count": 364,
     "metadata": {},
     "output_type": "execute_result"
    },
    {
     "data": {
      "image/png": "[encoded data removed]",
      "text/plain": [
       "<Figure size 432x288 with 1 Axes>"
      ]
     },
     "metadata": {
      "needs_background": "light"
     },
     "output_type": "display_data"
    }
   ],
   "source": [
    "plt.bar(X3,Y3,width=0.8)"
   ]
  },
  {
   "cell_type": "code",
   "execution_count": 365,
   "id": "85a50594",
   "metadata": {},
   "outputs": [],
   "source": [
    "# so the ratio of emotions is same in all datasets"
   ]
  },
  {
   "cell_type": "code",
   "execution_count": 366,
   "id": "8d099b80",
   "metadata": {},
   "outputs": [],
   "source": [
    "# sentiment anaylisis\n",
    "# step 1 : tokenisation ( divide sentense into words )\n",
    "# step 2 : cleaning the data ( remove spacial character )\n",
    "# step 3 : removing stop words\n",
    "# step 4 : classfication\n",
    "# step 5 : score calculation\n",
    "# Link : https://www.youtube.com/watch?v=O_B7XLfx0ic"
   ]
  },
  {
   "cell_type": "code",
   "execution_count": 367,
   "id": "c397c881",
   "metadata": {},
   "outputs": [],
   "source": [
    "# !pip install -U textblob"
   ]
  },
  {
   "cell_type": "code",
   "execution_count": 368,
   "id": "eb78c640",
   "metadata": {},
   "outputs": [],
   "source": [
    "from textblob import TextBlob"
   ]
  },
  {
   "cell_type": "code",
   "execution_count": 369,
   "id": "8c9e9aa9",
   "metadata": {},
   "outputs": [],
   "source": [
    "def get_sentiments(text : str) -> str :\n",
    "    \n",
    "    blob = TextBlob(text)\n",
    "    sentiment = blob.sentiment.polarity\n",
    "    \n",
    "    if sentiment > 0 : \n",
    "        return \"positive\"\n",
    "    elif sentiment < 0 :\n",
    "        return \"negative\"\n",
    "    \n",
    "    return \"neutral\""
   ]
  },
  {
   "cell_type": "code",
   "execution_count": 370,
   "id": "d0259fa8",
   "metadata": {},
   "outputs": [
    {
     "data": {
      "text/plain": [
       "'negative'"
      ]
     },
     "execution_count": 370,
     "metadata": {},
     "output_type": "execute_result"
    }
   ],
   "source": [
    "get_sentiments(\"The movie was not great!\")"
   ]
  },
  {
   "cell_type": "code",
   "execution_count": 371,
   "id": "5de4c0ed",
   "metadata": {},
   "outputs": [
    {
     "data": {
      "text/plain": [
       "'positive'"
      ]
     },
     "execution_count": 371,
     "metadata": {},
     "output_type": "execute_result"
    }
   ],
   "source": [
    "get_sentiments(\"the movie was great\")"
   ]
  },
  {
   "cell_type": "code",
   "execution_count": 372,
   "id": "f208e43d",
   "metadata": {},
   "outputs": [
    {
     "data": {
      "text/html": [
       "<div>\n",
       "<style scoped>\n",
       "    .dataframe tbody tr th:only-of-type {\n",
       "        vertical-align: middle;\n",
       "    }\n",
       "\n",
       "    .dataframe tbody tr th {\n",
       "        vertical-align: top;\n",
       "    }\n",
       "\n",
       "    .dataframe thead th {\n",
       "        text-align: right;\n",
       "    }\n",
       "</style>\n",
       "<table border=\"1\" class=\"dataframe\">\n",
       "  <thead>\n",
       "    <tr style=\"text-align: right;\">\n",
       "      <th></th>\n",
       "      <th>text</th>\n",
       "      <th>label</th>\n",
       "      <th>sentiment</th>\n",
       "    </tr>\n",
       "  </thead>\n",
       "  <tbody>\n",
       "    <tr>\n",
       "      <th>0</th>\n",
       "      <td>i didnt feel humiliated</td>\n",
       "      <td>0</td>\n",
       "      <td>neutral</td>\n",
       "    </tr>\n",
       "    <tr>\n",
       "      <th>1</th>\n",
       "      <td>i can go from feeling so hopeless to so damned...</td>\n",
       "      <td>0</td>\n",
       "      <td>neutral</td>\n",
       "    </tr>\n",
       "    <tr>\n",
       "      <th>2</th>\n",
       "      <td>im grabbing a minute to post i feel greedy wrong</td>\n",
       "      <td>3</td>\n",
       "      <td>negative</td>\n",
       "    </tr>\n",
       "    <tr>\n",
       "      <th>3</th>\n",
       "      <td>i am ever feeling nostalgic about the fireplac...</td>\n",
       "      <td>2</td>\n",
       "      <td>negative</td>\n",
       "    </tr>\n",
       "    <tr>\n",
       "      <th>4</th>\n",
       "      <td>i am feeling grouchy</td>\n",
       "      <td>3</td>\n",
       "      <td>neutral</td>\n",
       "    </tr>\n",
       "  </tbody>\n",
       "</table>\n",
       "</div>"
      ],
      "text/plain": [
       "                                                text  label sentiment\n",
       "0                            i didnt feel humiliated      0   neutral\n",
       "1  i can go from feeling so hopeless to so damned...      0   neutral\n",
       "2   im grabbing a minute to post i feel greedy wrong      3  negative\n",
       "3  i am ever feeling nostalgic about the fireplac...      2  negative\n",
       "4                               i am feeling grouchy      3   neutral"
      ]
     },
     "execution_count": 372,
     "metadata": {},
     "output_type": "execute_result"
    }
   ],
   "source": [
    "df1['sentiment'] = df1['text'].apply(get_sentiments)\n",
    "df1.head()"
   ]
  },
  {
   "cell_type": "code",
   "execution_count": 373,
   "id": "c417b81a",
   "metadata": {},
   "outputs": [
    {
     "name": "stdout",
     "output_type": "stream",
     "text": [
      "For sadness : {'negative': 2205, 'neutral': 1165, 'positive': 1296}\n",
      "For joy : {'negative': 589, 'neutral': 776, 'positive': 3997}\n",
      "For love : {'negative': 244, 'neutral': 179, 'positive': 881}\n",
      "For anger : {'negative': 1047, 'neutral': 545, 'positive': 567}\n",
      "For fear : {'negative': 871, 'neutral': 452, 'positive': 614}\n",
      "For confused : {'negative': 233, 'neutral': 60, 'positive': 279}\n"
     ]
    }
   ],
   "source": [
    "for l in range(6) :\n",
    "    temp_df = df1[df1.label == l]\n",
    "    print(f\"For {emotion_classes[l]} : \",dict(temp_df.groupby(by=\"sentiment\")['sentiment'].agg('count')),sep=\"\")"
   ]
  },
  {
   "cell_type": "code",
   "execution_count": 374,
   "id": "dbd5b909",
   "metadata": {},
   "outputs": [
    {
     "data": {
      "text/plain": [
       "<AxesSubplot:xlabel='label,sentiment'>"
      ]
     },
     "execution_count": 374,
     "metadata": {},
     "output_type": "execute_result"
    },
    {
     "data": {
      "image/png": "[encoded data removed]",
      "text/plain": [
       "<Figure size 1152x576 with 1 Axes>"
      ]
     },
     "metadata": {
      "needs_background": "light"
     },
     "output_type": "display_data"
    }
   ],
   "source": [
    "plt.figure(figsize=(16,8))\n",
    "df1.groupby(by=['label','sentiment']).size().plot(kind='bar')"
   ]
  },
  {
   "cell_type": "code",
   "execution_count": 375,
   "id": "c80db1ed",
   "metadata": {},
   "outputs": [
    {
     "data": {
      "text/plain": [
       "<seaborn.axisgrid.FacetGrid at 0x17295b3ca30>"
      ]
     },
     "execution_count": 375,
     "metadata": {},
     "output_type": "execute_result"
    },
    {
     "data": {
      "image/png": "[encoded data removed]",
      "text/plain": [
       "<Figure size 943.75x432 with 1 Axes>"
      ]
     },
     "metadata": {
      "needs_background": "light"
     },
     "output_type": "display_data"
    }
   ],
   "source": [
    "# for colourful plot we can use seaborn catplot\n",
    "sb.catplot(x='label',hue='sentiment',kind='count',data=df1,height=6,aspect=2)"
   ]
  },
  {
   "cell_type": "code",
   "execution_count": 376,
   "id": "3a0cf431",
   "metadata": {},
   "outputs": [
    {
     "data": {
      "text/html": [
       "<div>\n",
       "<style scoped>\n",
       "    .dataframe tbody tr th:only-of-type {\n",
       "        vertical-align: middle;\n",
       "    }\n",
       "\n",
       "    .dataframe tbody tr th {\n",
       "        vertical-align: top;\n",
       "    }\n",
       "\n",
       "    .dataframe thead th {\n",
       "        text-align: right;\n",
       "    }\n",
       "</style>\n",
       "<table border=\"1\" class=\"dataframe\">\n",
       "  <thead>\n",
       "    <tr style=\"text-align: right;\">\n",
       "      <th></th>\n",
       "      <th>text</th>\n",
       "      <th>label</th>\n",
       "      <th>sentiment</th>\n",
       "    </tr>\n",
       "  </thead>\n",
       "  <tbody>\n",
       "    <tr>\n",
       "      <th>0</th>\n",
       "      <td>im feeling rather rotten so im not very ambiti...</td>\n",
       "      <td>0</td>\n",
       "      <td>positive</td>\n",
       "    </tr>\n",
       "    <tr>\n",
       "      <th>1</th>\n",
       "      <td>im updating my blog because i feel shitty</td>\n",
       "      <td>0</td>\n",
       "      <td>neutral</td>\n",
       "    </tr>\n",
       "    <tr>\n",
       "      <th>2</th>\n",
       "      <td>i never make her separate from me because i do...</td>\n",
       "      <td>0</td>\n",
       "      <td>neutral</td>\n",
       "    </tr>\n",
       "    <tr>\n",
       "      <th>3</th>\n",
       "      <td>i left with my bouquet of red and yellow tulip...</td>\n",
       "      <td>1</td>\n",
       "      <td>positive</td>\n",
       "    </tr>\n",
       "    <tr>\n",
       "      <th>4</th>\n",
       "      <td>i was feeling a little vain when i did this one</td>\n",
       "      <td>0</td>\n",
       "      <td>negative</td>\n",
       "    </tr>\n",
       "  </tbody>\n",
       "</table>\n",
       "</div>"
      ],
      "text/plain": [
       "                                                text  label sentiment\n",
       "0  im feeling rather rotten so im not very ambiti...      0  positive\n",
       "1          im updating my blog because i feel shitty      0   neutral\n",
       "2  i never make her separate from me because i do...      0   neutral\n",
       "3  i left with my bouquet of red and yellow tulip...      1  positive\n",
       "4    i was feeling a little vain when i did this one      0  negative"
      ]
     },
     "execution_count": 376,
     "metadata": {},
     "output_type": "execute_result"
    }
   ],
   "source": [
    "df_test['sentiment'] = df_test['text'].apply(get_sentiments)   \n",
    "df_test.head()"
   ]
  },
  {
   "cell_type": "code",
   "execution_count": 377,
   "id": "5f31482f",
   "metadata": {
    "scrolled": true
   },
   "outputs": [
    {
     "data": {
      "text/plain": [
       "<seaborn.axisgrid.FacetGrid at 0x17295ad2700>"
      ]
     },
     "execution_count": 377,
     "metadata": {},
     "output_type": "execute_result"
    },
    {
     "data": {
      "image/png": "[encoded data removed]",
      "text/plain": [
       "<Figure size 943.75x432 with 1 Axes>"
      ]
     },
     "metadata": {
      "needs_background": "light"
     },
     "output_type": "display_data"
    }
   ],
   "source": [
    "sb.catplot(x='label',hue='sentiment',kind='count',data=df1,height=6,aspect=2)"
   ]
  },
  {
   "cell_type": "code",
   "execution_count": 378,
   "id": "1767e707",
   "metadata": {},
   "outputs": [
    {
     "data": {
      "text/plain": [
       "(2000, 3)"
      ]
     },
     "execution_count": 378,
     "metadata": {},
     "output_type": "execute_result"
    }
   ],
   "source": [
    "df_validation['sentiment'] = df_validation['text'].apply(get_sentiments)\n",
    "df_validation.shape"
   ]
  },
  {
   "cell_type": "markdown",
   "id": "4da491e8",
   "metadata": {},
   "source": [
    "# text cleaning \n",
    "    - emojis\n",
    "    - stopwords\n",
    "    - special char\n",
    "    - punctuation"
   ]
  },
  {
   "cell_type": "code",
   "execution_count": 379,
   "id": "30ee196e",
   "metadata": {},
   "outputs": [],
   "source": [
    "def Text_Cleaning(df) :\n",
    "    df['clean_text'] = df['text'].apply(ntf.remove_emojis)\n",
    "    df['clean_text'] = df['clean_text'].apply(ntf.remove_punctuations)\n",
    "    df['clean_text'] = df['clean_text'].apply(ntf.remove_stopwords)\n",
    "    df['clean_text'] = df['clean_text'].apply(ntf.remove_special_characters)\n",
    "    df['clean_text'] = df['clean_text'].apply(ntf.remove_userhandles)"
   ]
  },
  {
   "cell_type": "code",
   "execution_count": 380,
   "id": "9321f374",
   "metadata": {},
   "outputs": [],
   "source": [
    "Text_Cleaning(df1)\n",
    "Text_Cleaning(df_test)\n",
    "Text_Cleaning(df_validation)"
   ]
  },
  {
   "cell_type": "code",
   "execution_count": 381,
   "id": "e197618e",
   "metadata": {},
   "outputs": [
    {
     "data": {
      "text/html": [
       "<div>\n",
       "<style scoped>\n",
       "    .dataframe tbody tr th:only-of-type {\n",
       "        vertical-align: middle;\n",
       "    }\n",
       "\n",
       "    .dataframe tbody tr th {\n",
       "        vertical-align: top;\n",
       "    }\n",
       "\n",
       "    .dataframe thead th {\n",
       "        text-align: right;\n",
       "    }\n",
       "</style>\n",
       "<table border=\"1\" class=\"dataframe\">\n",
       "  <thead>\n",
       "    <tr style=\"text-align: right;\">\n",
       "      <th></th>\n",
       "      <th>text</th>\n",
       "      <th>label</th>\n",
       "      <th>sentiment</th>\n",
       "      <th>clean_text</th>\n",
       "    </tr>\n",
       "  </thead>\n",
       "  <tbody>\n",
       "    <tr>\n",
       "      <th>0</th>\n",
       "      <td>i didnt feel humiliated</td>\n",
       "      <td>0</td>\n",
       "      <td>neutral</td>\n",
       "      <td>didnt feel humiliated</td>\n",
       "    </tr>\n",
       "    <tr>\n",
       "      <th>1</th>\n",
       "      <td>i can go from feeling so hopeless to so damned...</td>\n",
       "      <td>0</td>\n",
       "      <td>neutral</td>\n",
       "      <td>feeling hopeless damned hopeful cares awake</td>\n",
       "    </tr>\n",
       "    <tr>\n",
       "      <th>2</th>\n",
       "      <td>im grabbing a minute to post i feel greedy wrong</td>\n",
       "      <td>3</td>\n",
       "      <td>negative</td>\n",
       "      <td>im grabbing minute post feel greedy wrong</td>\n",
       "    </tr>\n",
       "    <tr>\n",
       "      <th>3</th>\n",
       "      <td>i am ever feeling nostalgic about the fireplac...</td>\n",
       "      <td>2</td>\n",
       "      <td>negative</td>\n",
       "      <td>feeling nostalgic fireplace know property</td>\n",
       "    </tr>\n",
       "    <tr>\n",
       "      <th>4</th>\n",
       "      <td>i am feeling grouchy</td>\n",
       "      <td>3</td>\n",
       "      <td>neutral</td>\n",
       "      <td>feeling grouchy</td>\n",
       "    </tr>\n",
       "  </tbody>\n",
       "</table>\n",
       "</div>"
      ],
      "text/plain": [
       "                                                text  label sentiment  \\\n",
       "0                            i didnt feel humiliated      0   neutral   \n",
       "1  i can go from feeling so hopeless to so damned...      0   neutral   \n",
       "2   im grabbing a minute to post i feel greedy wrong      3  negative   \n",
       "3  i am ever feeling nostalgic about the fireplac...      2  negative   \n",
       "4                               i am feeling grouchy      3   neutral   \n",
       "\n",
       "                                    clean_text  \n",
       "0                        didnt feel humiliated  \n",
       "1  feeling hopeless damned hopeful cares awake  \n",
       "2    im grabbing minute post feel greedy wrong  \n",
       "3    feeling nostalgic fireplace know property  \n",
       "4                              feeling grouchy  "
      ]
     },
     "execution_count": 381,
     "metadata": {},
     "output_type": "execute_result"
    }
   ],
   "source": [
    "df1.head()"
   ]
  },
  {
   "cell_type": "code",
   "execution_count": 382,
   "id": "4c2c93c8",
   "metadata": {},
   "outputs": [
    {
     "data": {
      "text/plain": [
       "(15951, 4)"
      ]
     },
     "execution_count": 382,
     "metadata": {},
     "output_type": "execute_result"
    }
   ],
   "source": [
    "df1[ ~ (df1.clean_text == df1.text) ].shape \n",
    "# so this cleaning step is mandatory for classification and anyways we don't use emoji's userhandles and stopwords for training model"
   ]
  },
  {
   "cell_type": "code",
   "execution_count": 383,
   "id": "68424e87",
   "metadata": {},
   "outputs": [
    {
     "data": {
      "text/plain": [
       "(1994, 4)"
      ]
     },
     "execution_count": 383,
     "metadata": {},
     "output_type": "execute_result"
    }
   ],
   "source": [
    "df_test[ ~ ( df_test.clean_text == df_test.text )].shape"
   ]
  },
  {
   "cell_type": "code",
   "execution_count": 384,
   "id": "5eb7c928",
   "metadata": {},
   "outputs": [
    {
     "data": {
      "text/plain": [
       "(1994, 4)"
      ]
     },
     "execution_count": 384,
     "metadata": {},
     "output_type": "execute_result"
    }
   ],
   "source": [
    "df_validation[ ~ ( df_validation.clean_text == df_validation.text )].shape"
   ]
  },
  {
   "cell_type": "code",
   "execution_count": 385,
   "id": "88582a7c",
   "metadata": {},
   "outputs": [
    {
     "data": {
      "text/plain": [
       "text          0\n",
       "label         0\n",
       "sentiment     0\n",
       "clean_text    0\n",
       "dtype: int64"
      ]
     },
     "execution_count": 385,
     "metadata": {},
     "output_type": "execute_result"
    }
   ],
   "source": [
    "# now we cleared some text line so there might be some value becomes null\n",
    "df1.isna().sum()"
   ]
  },
  {
   "cell_type": "code",
   "execution_count": 386,
   "id": "52f7c0b1",
   "metadata": {},
   "outputs": [
    {
     "data": {
      "text/plain": [
       "text          0\n",
       "label         0\n",
       "sentiment     0\n",
       "clean_text    0\n",
       "dtype: int64"
      ]
     },
     "execution_count": 386,
     "metadata": {},
     "output_type": "execute_result"
    }
   ],
   "source": [
    "df_test.isna().sum()"
   ]
  },
  {
   "cell_type": "code",
   "execution_count": 387,
   "id": "d623990b",
   "metadata": {},
   "outputs": [
    {
     "data": {
      "text/plain": [
       "text          0\n",
       "label         0\n",
       "sentiment     0\n",
       "clean_text    0\n",
       "dtype: int64"
      ]
     },
     "execution_count": 387,
     "metadata": {},
     "output_type": "execute_result"
    }
   ],
   "source": [
    "df_validation.isna().sum()"
   ]
  },
  {
   "cell_type": "code",
   "execution_count": 388,
   "id": "b2752863",
   "metadata": {},
   "outputs": [],
   "source": [
    "from collections import Counter\n",
    "# Here Counter is basically freq calculator\n",
    "# https://www.journaldev.com/20806/python-counter-python-collections-counter#:~:text=and%20their%20count.-,Python%20Counter,on%20it's%20keys%20and%20values."
   ]
  },
  {
   "cell_type": "code",
   "execution_count": 389,
   "id": "d2163f1a",
   "metadata": {},
   "outputs": [],
   "source": [
    "def Extract_KeyWord_temp(text : str, num = 50) :\n",
    "    tokens = [ token for token in text.split()]\n",
    "    most_common_tokens = Counter(tokens).most_common(num)\n",
    "    return dict(most_common_tokens)"
   ]
  },
  {
   "cell_type": "code",
   "execution_count": 390,
   "id": "fe9f0306",
   "metadata": {},
   "outputs": [],
   "source": [
    "joy_list = df1[df1['label'] == 1]['clean_text'].tolist()"
   ]
  },
  {
   "cell_type": "code",
   "execution_count": 391,
   "id": "c7a908d5",
   "metadata": {
    "scrolled": true
   },
   "outputs": [
    {
     "data": {
      "text/plain": [
       "302838"
      ]
     },
     "execution_count": 391,
     "metadata": {},
     "output_type": "execute_result"
    }
   ],
   "source": [
    "joy_text_string = \" \".join(joy_list)\n",
    "len(joy_text_string)"
   ]
  },
  {
   "cell_type": "code",
   "execution_count": 392,
   "id": "fcb96074",
   "metadata": {
    "scrolled": true
   },
   "outputs": [
    {
     "data": {
      "text/plain": [
       "1"
      ]
     },
     "execution_count": 392,
     "metadata": {},
     "output_type": "execute_result"
    }
   ],
   "source": [
    "emotion_classes_str[\"joy\"]"
   ]
  },
  {
   "cell_type": "code",
   "execution_count": 393,
   "id": "b1549079",
   "metadata": {},
   "outputs": [],
   "source": [
    "def Extract_KeyWord(emotion : str, num : int ) -> dict :\n",
    "    # let's get's text from DataFrame\n",
    "    Text_List = df1[df1.label == emotion_classes_str[emotion]]['clean_text'].tolist()\n",
    "    Text_str = \" \".join(Text_List)\n",
    "    \n",
    "    words = [ word for word in Text_str.split() ]\n",
    "    most_comman_words = Counter(words).most_common(num)\n",
    "    \n",
    "    return dict(most_comman_words)"
   ]
  },
  {
   "cell_type": "code",
   "execution_count": 394,
   "id": "df3de232",
   "metadata": {},
   "outputs": [],
   "source": [
    "keywords = {\n",
    "    0 : Extract_KeyWord(emotion=\"sadness\",num=50),\n",
    "    1 : Extract_KeyWord(emotion=\"joy\",num=50),\n",
    "    2 : Extract_KeyWord(emotion=\"love\",num=50),\n",
    "    3 : Extract_KeyWord(emotion=\"anger\",num=50),\n",
    "    4 : Extract_KeyWord(emotion=\"fear\",num=50),\n",
    "    5 : Extract_KeyWord(emotion=\"confused\",num=50)\n",
    "}"
   ]
  },
  {
   "cell_type": "code",
   "execution_count": 395,
   "id": "e4f82df3",
   "metadata": {},
   "outputs": [
    {
     "data": {
      "text/plain": [
       "{'feel': 356,\n",
       " 'feeling': 209,\n",
       " 'im': 91,\n",
       " 'like': 90,\n",
       " 'amazed': 67,\n",
       " 'impressed': 61,\n",
       " 'overwhelmed': 58,\n",
       " 'weird': 57,\n",
       " 'surprised': 55,\n",
       " 'curious': 54,\n",
       " 'funny': 49,\n",
       " 'strange': 45,\n",
       " 'shocked': 45,\n",
       " 'little': 44,\n",
       " 'amazing': 40,\n",
       " 'time': 36,\n",
       " 'dazed': 32,\n",
       " 'bit': 30,\n",
       " 'people': 29,\n",
       " 'know': 27,\n",
       " 'remember': 24,\n",
       " 'think': 23,\n",
       " 'life': 22,\n",
       " 'feels': 22,\n",
       " 'ive': 20,\n",
       " 'way': 20,\n",
       " 'things': 19,\n",
       " 'stunned': 19,\n",
       " 'actually': 18,\n",
       " 'find': 18,\n",
       " 'pretty': 16,\n",
       " 'work': 15,\n",
       " 'love': 15,\n",
       " 'going': 14,\n",
       " 'want': 14,\n",
       " 'feelings': 14,\n",
       " 'new': 13,\n",
       " 'makes': 13,\n",
       " 'didnt': 13,\n",
       " 'dont': 12,\n",
       " 'good': 12,\n",
       " 'day': 12,\n",
       " 'read': 11,\n",
       " 'tell': 11,\n",
       " 'sure': 11,\n",
       " 'family': 11,\n",
       " 'got': 11,\n",
       " 'world': 11,\n",
       " 'today': 11,\n",
       " 'started': 10}"
      ]
     },
     "execution_count": 395,
     "metadata": {},
     "output_type": "execute_result"
    }
   ],
   "source": [
    "keywords[5]"
   ]
  },
  {
   "cell_type": "markdown",
   "id": "2da3b690",
   "metadata": {},
   "source": [
    "# Model Training"
   ]
  },
  {
   "cell_type": "code",
   "execution_count": 396,
   "id": "e15266cb",
   "metadata": {},
   "outputs": [],
   "source": [
    "# basically this is classification problem so we can use \n",
    "# 1 : Naive-Bayes\n",
    "# 2 : Logistic-Reg\n",
    "# 3 : KNN\n",
    "# 4 : Decision Tree"
   ]
  },
  {
   "cell_type": "code",
   "execution_count": 397,
   "id": "54a6a95f",
   "metadata": {},
   "outputs": [],
   "source": [
    "from sklearn.linear_model import LogisticRegression\n",
    "from sklearn.naive_bayes import MultinomialNB\n",
    "from sklearn.feature_extraction.text import CountVectorizer,TfidfVectorizer\n",
    "from sklearn.metrics import accuracy_score,confusion_matrix,classification_report"
   ]
  },
  {
   "cell_type": "code",
   "execution_count": 398,
   "id": "f78d0c14",
   "metadata": {},
   "outputs": [
    {
     "data": {
      "text/plain": [
       "(20000, 4)"
      ]
     },
     "execution_count": 398,
     "metadata": {},
     "output_type": "execute_result"
    }
   ],
   "source": [
    "DF = pd.DataFrame()\n",
    "DF = pd.concat([df1,df_test,df_validation],axis=0)\n",
    "DF.shape"
   ]
  },
  {
   "cell_type": "code",
   "execution_count": 399,
   "id": "b6bd49c7",
   "metadata": {},
   "outputs": [
    {
     "data": {
      "text/html": [
       "<div>\n",
       "<style scoped>\n",
       "    .dataframe tbody tr th:only-of-type {\n",
       "        vertical-align: middle;\n",
       "    }\n",
       "\n",
       "    .dataframe tbody tr th {\n",
       "        vertical-align: top;\n",
       "    }\n",
       "\n",
       "    .dataframe thead th {\n",
       "        text-align: right;\n",
       "    }\n",
       "</style>\n",
       "<table border=\"1\" class=\"dataframe\">\n",
       "  <thead>\n",
       "    <tr style=\"text-align: right;\">\n",
       "      <th></th>\n",
       "      <th>text</th>\n",
       "      <th>label</th>\n",
       "      <th>sentiment</th>\n",
       "      <th>clean_text</th>\n",
       "    </tr>\n",
       "  </thead>\n",
       "  <tbody>\n",
       "    <tr>\n",
       "      <th>0</th>\n",
       "      <td>i didnt feel humiliated</td>\n",
       "      <td>0</td>\n",
       "      <td>neutral</td>\n",
       "      <td>didnt feel humiliated</td>\n",
       "    </tr>\n",
       "    <tr>\n",
       "      <th>1</th>\n",
       "      <td>i can go from feeling so hopeless to so damned...</td>\n",
       "      <td>0</td>\n",
       "      <td>neutral</td>\n",
       "      <td>feeling hopeless damned hopeful cares awake</td>\n",
       "    </tr>\n",
       "    <tr>\n",
       "      <th>2</th>\n",
       "      <td>im grabbing a minute to post i feel greedy wrong</td>\n",
       "      <td>3</td>\n",
       "      <td>negative</td>\n",
       "      <td>im grabbing minute post feel greedy wrong</td>\n",
       "    </tr>\n",
       "    <tr>\n",
       "      <th>3</th>\n",
       "      <td>i am ever feeling nostalgic about the fireplac...</td>\n",
       "      <td>2</td>\n",
       "      <td>negative</td>\n",
       "      <td>feeling nostalgic fireplace know property</td>\n",
       "    </tr>\n",
       "    <tr>\n",
       "      <th>4</th>\n",
       "      <td>i am feeling grouchy</td>\n",
       "      <td>3</td>\n",
       "      <td>neutral</td>\n",
       "      <td>feeling grouchy</td>\n",
       "    </tr>\n",
       "  </tbody>\n",
       "</table>\n",
       "</div>"
      ],
      "text/plain": [
       "                                                text  label sentiment  \\\n",
       "0                            i didnt feel humiliated      0   neutral   \n",
       "1  i can go from feeling so hopeless to so damned...      0   neutral   \n",
       "2   im grabbing a minute to post i feel greedy wrong      3  negative   \n",
       "3  i am ever feeling nostalgic about the fireplac...      2  negative   \n",
       "4                               i am feeling grouchy      3   neutral   \n",
       "\n",
       "                                    clean_text  \n",
       "0                        didnt feel humiliated  \n",
       "1  feeling hopeless damned hopeful cares awake  \n",
       "2    im grabbing minute post feel greedy wrong  \n",
       "3    feeling nostalgic fireplace know property  \n",
       "4                              feeling grouchy  "
      ]
     },
     "execution_count": 399,
     "metadata": {},
     "output_type": "execute_result"
    }
   ],
   "source": [
    "DF.head(5)"
   ]
  },
  {
   "cell_type": "code",
   "execution_count": 400,
   "id": "5f917a9e",
   "metadata": {},
   "outputs": [],
   "source": [
    "Xfeatures = DF['clean_text']\n",
    "Y = DF['label']"
   ]
  },
  {
   "cell_type": "code",
   "execution_count": 401,
   "id": "820694f9",
   "metadata": {
    "scrolled": true
   },
   "outputs": [
    {
     "data": {
      "text/plain": [
       "0                          didnt feel humiliated\n",
       "1    feeling hopeless damned hopeful cares awake\n",
       "2      im grabbing minute post feel greedy wrong\n",
       "3      feeling nostalgic fireplace know property\n",
       "4                                feeling grouchy\n",
       "Name: clean_text, dtype: object"
      ]
     },
     "execution_count": 401,
     "metadata": {},
     "output_type": "execute_result"
    }
   ],
   "source": [
    "Xfeatures.head()"
   ]
  },
  {
   "cell_type": "code",
   "execution_count": 402,
   "id": "8627f005",
   "metadata": {},
   "outputs": [],
   "source": [
    "Y = Y.apply(lambda x : emotion_classes[x])"
   ]
  },
  {
   "cell_type": "code",
   "execution_count": 403,
   "id": "8683ff82",
   "metadata": {},
   "outputs": [
    {
     "data": {
      "text/plain": [
       "0       sadness\n",
       "1       sadness\n",
       "2         anger\n",
       "3          love\n",
       "4         anger\n",
       "         ...   \n",
       "1995    sadness\n",
       "1996        joy\n",
       "1997        joy\n",
       "1998        joy\n",
       "1999        joy\n",
       "Name: label, Length: 20000, dtype: object"
      ]
     },
     "execution_count": 403,
     "metadata": {},
     "output_type": "execute_result"
    }
   ],
   "source": [
    "Y"
   ]
  },
  {
   "cell_type": "code",
   "execution_count": 404,
   "id": "42299c4b",
   "metadata": {
    "scrolled": false
   },
   "outputs": [],
   "source": [
    "cv = CountVectorizer(min_df=3)\n",
    "X = cv.fit_transform(Xfeatures)"
   ]
  },
  {
   "cell_type": "code",
   "execution_count": 405,
   "id": "b2dff15c",
   "metadata": {
    "scrolled": true
   },
   "outputs": [
    {
     "data": {
      "text/plain": [
       "scipy.sparse.csr.csr_matrix"
      ]
     },
     "execution_count": 405,
     "metadata": {},
     "output_type": "execute_result"
    }
   ],
   "source": [
    "type(X)"
   ]
  },
  {
   "cell_type": "code",
   "execution_count": 406,
   "id": "939a433c",
   "metadata": {
    "scrolled": true
   },
   "outputs": [
    {
     "name": "stderr",
     "output_type": "stream",
     "text": [
      "C:\\Users\\HP\\anaconda3\\lib\\site-packages\\sklearn\\utils\\deprecation.py:87: FutureWarning: Function get_feature_names is deprecated; get_feature_names is deprecated in 1.0 and will be removed in 1.2. Please use get_feature_names_out instead.\n",
      "  warnings.warn(msg, category=FutureWarning)\n"
     ]
    },
    {
     "data": {
      "text/plain": [
       "['aa',\n",
       " 'abandon',\n",
       " 'abandoned',\n",
       " 'abandoning',\n",
       " 'abandonment',\n",
       " 'abc',\n",
       " 'abdomen',\n",
       " 'abide',\n",
       " 'abilities',\n",
       " 'ability']"
      ]
     },
     "execution_count": 406,
     "metadata": {},
     "output_type": "execute_result"
    }
   ],
   "source": [
    "cv.get_feature_names()[:10] \n",
    "# this method is useful to see our feature word from our training data if we use min_df = 1 while creating object of\n",
    "# CountVectorizer than it will also include noicy words but for removing it we can set min_df > 1 .\n",
    "\n",
    "# Article : https://stackoverflow.com/questions/47419633/countvectorizer-method-get-feature-names-produces-codes-but-not-words"
   ]
  },
  {
   "cell_type": "code",
   "execution_count": 407,
   "id": "e869ec31",
   "metadata": {},
   "outputs": [
    {
     "data": {
      "text/plain": [
       "(20000, 5568)"
      ]
     },
     "execution_count": 407,
     "metadata": {},
     "output_type": "execute_result"
    }
   ],
   "source": [
    "X.toarray().shape"
   ]
  },
  {
   "cell_type": "code",
   "execution_count": 408,
   "id": "15a7adac",
   "metadata": {},
   "outputs": [],
   "source": [
    "from sklearn.model_selection import train_test_split\n",
    "X_train , X_test , y_train, y_test = train_test_split(X,Y,train_size=0.8,random_state=50)"
   ]
  },
  {
   "cell_type": "code",
   "execution_count": 409,
   "id": "8b8557c5",
   "metadata": {},
   "outputs": [
    {
     "data": {
      "text/plain": [
       "(16000, 5568)"
      ]
     },
     "execution_count": 409,
     "metadata": {},
     "output_type": "execute_result"
    }
   ],
   "source": [
    "X_train.shape"
   ]
  },
  {
   "cell_type": "code",
   "execution_count": 410,
   "id": "38253928",
   "metadata": {
    "scrolled": true
   },
   "outputs": [
    {
     "data": {
      "text/plain": [
       "(4000,)"
      ]
     },
     "execution_count": 410,
     "metadata": {},
     "output_type": "execute_result"
    }
   ],
   "source": [
    "y_test.shape"
   ]
  },
  {
   "cell_type": "markdown",
   "id": "dad6d2d4",
   "metadata": {},
   "source": [
    "#### Model 1 : Naive Bayes"
   ]
  },
  {
   "cell_type": "code",
   "execution_count": 411,
   "id": "926db556",
   "metadata": {
    "scrolled": true
   },
   "outputs": [
    {
     "data": {
      "text/plain": [
       "MultinomialNB()"
      ]
     },
     "execution_count": 411,
     "metadata": {},
     "output_type": "execute_result"
    }
   ],
   "source": [
    "NB_model = MultinomialNB()\n",
    "NB_model.fit(X_train,y_train)"
   ]
  },
  {
   "cell_type": "code",
   "execution_count": 412,
   "id": "7a2a301d",
   "metadata": {
    "scrolled": true
   },
   "outputs": [
    {
     "data": {
      "text/plain": [
       "0.83775"
      ]
     },
     "execution_count": 412,
     "metadata": {},
     "output_type": "execute_result"
    }
   ],
   "source": [
    "NB_model.score(X_test,y_test)"
   ]
  },
  {
   "cell_type": "code",
   "execution_count": 413,
   "id": "96169adb",
   "metadata": {},
   "outputs": [
    {
     "data": {
      "text/plain": [
       "array(['joy', 'sadness', 'joy', ..., 'anger', 'fear', 'sadness'],\n",
       "      dtype='<U8')"
      ]
     },
     "execution_count": 413,
     "metadata": {},
     "output_type": "execute_result"
    }
   ],
   "source": [
    "NB_model.predict(X_test)"
   ]
  },
  {
   "cell_type": "code",
   "execution_count": 414,
   "id": "16304938",
   "metadata": {},
   "outputs": [],
   "source": [
    "Text = [\"ohh!\",\"That's Awesome\",\"feeling grouchy\",\"didnt feel humiliated\"]"
   ]
  },
  {
   "cell_type": "code",
   "execution_count": 415,
   "id": "1a16c55e",
   "metadata": {},
   "outputs": [
    {
     "data": {
      "text/plain": [
       "array(['joy', 'joy', 'anger', 'sadness'], dtype='<U8')"
      ]
     },
     "execution_count": 415,
     "metadata": {},
     "output_type": "execute_result"
    }
   ],
   "source": [
    "NB_model.predict(cv.transform(Text))"
   ]
  },
  {
   "cell_type": "code",
   "execution_count": 416,
   "id": "e432549e",
   "metadata": {
    "scrolled": true
   },
   "outputs": [
    {
     "data": {
      "text/plain": [
       "array([[0.13525   , 0.03675   , 0.1188125 , 0.3409375 , 0.081875  ,\n",
       "        0.286375  ],\n",
       "       [0.03550763, 0.10342652, 0.10382625, 0.50104389, 0.08838632,\n",
       "        0.16780938],\n",
       "       [0.8400661 , 0.01012172, 0.0301182 , 0.06582399, 0.01579346,\n",
       "        0.03807653],\n",
       "       [0.01176533, 0.0029294 , 0.00656396, 0.02501324, 0.00458822,\n",
       "        0.94913985]])"
      ]
     },
     "execution_count": 416,
     "metadata": {},
     "output_type": "execute_result"
    }
   ],
   "source": [
    "NB_model.predict_proba(cv.transform(Text))\n",
    "# this function will return probability of each class -> than we can use np.argmax for index of max_probability"
   ]
  },
  {
   "cell_type": "code",
   "execution_count": 417,
   "id": "c62c03d1",
   "metadata": {},
   "outputs": [
    {
     "data": {
      "text/plain": [
       "array(['anger', 'confused', 'fear', 'joy', 'love', 'sadness'], dtype='<U8')"
      ]
     },
     "execution_count": 417,
     "metadata": {},
     "output_type": "execute_result"
    }
   ],
   "source": [
    "NB_model.classes_"
   ]
  },
  {
   "cell_type": "code",
   "execution_count": 418,
   "id": "69ec5e82",
   "metadata": {},
   "outputs": [],
   "source": [
    "# let's make function for single text prediction\n",
    "def Prediction(Text : str, model) :\n",
    "    vec_text = cv.transform([Text]).toarray()\n",
    "    prediction = model.predict(vec_text)\n",
    "    prediction_prob = model.predict_proba(vec_text)\n",
    "    pred_prob_for_all = dict(zip(model.classes_,prediction_prob[0]))\n",
    "    \n",
    "    params = {\n",
    "        'prediction' : prediction[0],\n",
    "        'prediction_prob' : prediction_prob[0],\n",
    "        'pred_prob_for_all' : pred_prob_for_all\n",
    "    }\n",
    "    \n",
    "    return params"
   ]
  },
  {
   "cell_type": "code",
   "execution_count": 419,
   "id": "2d29704f",
   "metadata": {},
   "outputs": [
    {
     "data": {
      "text/plain": [
       "{'prediction': 'sadness',\n",
       " 'prediction_prob': array([0.07323684, 0.00316261, 0.0775163 , 0.37374004, 0.0706647 ,\n",
       "        0.40167952]),\n",
       " 'pred_prob_for_all': {'anger': 0.0732368360410872,\n",
       "  'confused': 0.003162608156053303,\n",
       "  'fear': 0.07751629743320415,\n",
       "  'joy': 0.37374003937320505,\n",
       "  'love': 0.07066470374908836,\n",
       "  'sadness': 0.4016795152473611}}"
      ]
     },
     "execution_count": 419,
     "metadata": {},
     "output_type": "execute_result"
    }
   ],
   "source": [
    "Prediction(Text=\"He hates running all day\",model=NB_model) \n",
    "# yes it's not preety good but it's fine as we traning very less number of classes"
   ]
  },
  {
   "cell_type": "code",
   "execution_count": 420,
   "id": "0b471308",
   "metadata": {},
   "outputs": [],
   "source": [
    "Y_predict = NB_model.predict(X_test)"
   ]
  },
  {
   "cell_type": "code",
   "execution_count": 421,
   "id": "24ef863d",
   "metadata": {},
   "outputs": [
    {
     "data": {
      "text/plain": [
       "array(['joy', 'sadness', 'joy', ..., 'anger', 'fear', 'sadness'],\n",
       "      dtype='<U8')"
      ]
     },
     "execution_count": 421,
     "metadata": {},
     "output_type": "execute_result"
    }
   ],
   "source": [
    "Y_predict"
   ]
  },
  {
   "cell_type": "code",
   "execution_count": 422,
   "id": "326bd6e5",
   "metadata": {},
   "outputs": [
    {
     "name": "stdout",
     "output_type": "stream",
     "text": [
      "              precision    recall  f1-score   support\n",
      "\n",
      "       anger       0.86      0.79      0.82       545\n",
      "    confused       0.70      0.39      0.50       131\n",
      "        fear       0.81      0.77      0.79       472\n",
      "         joy       0.85      0.92      0.88      1306\n",
      "        love       0.75      0.62      0.68       331\n",
      "     sadness       0.85      0.91      0.88      1215\n",
      "\n",
      "    accuracy                           0.84      4000\n",
      "   macro avg       0.80      0.73      0.76      4000\n",
      "weighted avg       0.83      0.84      0.83      4000\n",
      "\n"
     ]
    }
   ],
   "source": [
    "print(classification_report(y_true=y_test,y_pred=Y_predict))"
   ]
  },
  {
   "cell_type": "code",
   "execution_count": 423,
   "id": "9c8e31dc",
   "metadata": {},
   "outputs": [],
   "source": [
    "cm = confusion_matrix(y_test,Y_predict)"
   ]
  },
  {
   "cell_type": "code",
   "execution_count": 424,
   "id": "04fcdca4",
   "metadata": {},
   "outputs": [
    {
     "data": {
      "text/plain": [
       "{0: 'sadness', 1: 'joy', 2: 'love', 3: 'anger', 4: 'fear', 5: 'confused'}"
      ]
     },
     "execution_count": 424,
     "metadata": {},
     "output_type": "execute_result"
    }
   ],
   "source": [
    "emotion_classes"
   ]
  },
  {
   "cell_type": "code",
   "execution_count": 425,
   "id": "14c4dba3",
   "metadata": {},
   "outputs": [
    {
     "data": {
      "image/png": "[encoded data removed]",
      "text/plain": [
       "<Figure size 432x288 with 2 Axes>"
      ]
     },
     "metadata": {
      "needs_background": "light"
     },
     "output_type": "display_data"
    }
   ],
   "source": [
    "sb.heatmap(cm,annot=True)\n",
    "plt.xlabel(\"Predicted\")\n",
    "plt.ylabel(\"True\")\n",
    "plt.show()"
   ]
  },
  {
   "cell_type": "markdown",
   "id": "0f96be55",
   "metadata": {},
   "source": [
    "#### Model 2 : Logistic Regression"
   ]
  },
  {
   "cell_type": "code",
   "execution_count": 446,
   "id": "b458ae1a",
   "metadata": {},
   "outputs": [
    {
     "data": {
      "text/plain": [
       "LogisticRegression(max_iter=200)"
      ]
     },
     "execution_count": 446,
     "metadata": {},
     "output_type": "execute_result"
    }
   ],
   "source": [
    "LR_model = LogisticRegression(max_iter=200)\n",
    "LR_model.fit(X_train,y_train)"
   ]
  },
  {
   "cell_type": "code",
   "execution_count": 447,
   "id": "265af3eb",
   "metadata": {},
   "outputs": [
    {
     "data": {
      "text/plain": [
       "0.9"
      ]
     },
     "execution_count": 447,
     "metadata": {},
     "output_type": "execute_result"
    }
   ],
   "source": [
    "LR_model.score(X_test,y_test)"
   ]
  },
  {
   "cell_type": "code",
   "execution_count": 452,
   "id": "3834cdff",
   "metadata": {},
   "outputs": [
    {
     "data": {
      "text/plain": [
       "{'prediction': 'sadness',\n",
       " 'prediction_prob': array([0.06778479, 0.011215  , 0.06478687, 0.1015651 , 0.01793279,\n",
       "        0.73671545]),\n",
       " 'pred_prob_for_all': {'anger': 0.06778479334655596,\n",
       "  'confused': 0.011215003346891309,\n",
       "  'fear': 0.06478687123215637,\n",
       "  'joy': 0.10156509578670642,\n",
       "  'love': 0.01793278752241646,\n",
       "  'sadness': 0.7367154487652735}}"
      ]
     },
     "execution_count": 452,
     "metadata": {},
     "output_type": "execute_result"
    }
   ],
   "source": [
    "Prediction(Text=\"i am feeling very sad for that\",model=LR_model) "
   ]
  },
  {
   "cell_type": "code",
   "execution_count": 456,
   "id": "f34729d1",
   "metadata": {},
   "outputs": [
    {
     "data": {
      "text/plain": [
       "{'prediction': 'joy',\n",
       " 'prediction_prob': array([0.20864439, 0.01587228, 0.0945775 , 0.47363069, 0.05123261,\n",
       "        0.15604253]),\n",
       " 'pred_prob_for_all': {'anger': 0.20864438654982279,\n",
       "  'confused': 0.0158722811170823,\n",
       "  'fear': 0.09457750266475459,\n",
       "  'joy': 0.47363068877503095,\n",
       "  'love': 0.05123260898118305,\n",
       "  'sadness': 0.15604253191212636}}"
      ]
     },
     "execution_count": 456,
     "metadata": {},
     "output_type": "execute_result"
    }
   ],
   "source": [
    "Prediction(Text=\"I took all my frustration and anger on you\",model=LR_model)\n",
    "# wrong prediction :-> it should predict Anger"
   ]
  },
  {
   "cell_type": "code",
   "execution_count": 457,
   "id": "7fb7cead",
   "metadata": {},
   "outputs": [
    {
     "data": {
      "text/plain": [
       "{'prediction': 'fear',\n",
       " 'prediction_prob': array([0.03537706, 0.00364672, 0.85061982, 0.03646731, 0.01087147,\n",
       "        0.06301761]),\n",
       " 'pred_prob_for_all': {'anger': 0.03537706474644064,\n",
       "  'confused': 0.0036467215919202783,\n",
       "  'fear': 0.8506198186883367,\n",
       "  'joy': 0.03646731440417668,\n",
       "  'love': 0.010871466300872235,\n",
       "  'sadness': 0.06301761426825347}}"
      ]
     },
     "execution_count": 457,
     "metadata": {},
     "output_type": "execute_result"
    }
   ],
   "source": [
    "Prediction(Text=\"I have afraid of that\",model = LR_model)"
   ]
  },
  {
   "cell_type": "code",
   "execution_count": 458,
   "id": "bd5fa30d",
   "metadata": {},
   "outputs": [
    {
     "data": {
      "text/plain": [
       "{'prediction': 'fear',\n",
       " 'prediction_prob': array([0.04285005, 0.00499254, 0.59306706, 0.1007753 , 0.0355544 ,\n",
       "        0.22276066]),\n",
       " 'pred_prob_for_all': {'anger': 0.04285004599568178,\n",
       "  'confused': 0.004992539109651495,\n",
       "  'fear': 0.5930670604054035,\n",
       "  'joy': 0.10077529632836618,\n",
       "  'love': 0.035554401908733435,\n",
       "  'sadness': 0.22276065625216404}}"
      ]
     },
     "execution_count": 458,
     "metadata": {},
     "output_type": "execute_result"
    }
   ],
   "source": [
    "Prediction(Text=\" I have afraid of that\",model = NB_model)"
   ]
  },
  {
   "cell_type": "code",
   "execution_count": null,
   "id": "e688f17a",
   "metadata": {},
   "outputs": [],
   "source": []
  }
 ],
 "metadata": {
  "kernelspec": {
   "display_name": "Python 3 (ipykernel)",
   "language": "python",
   "name": "python3"
  },
  "language_info": {
   "codemirror_mode": {
    "name": "ipython",
    "version": 3
   },
   "file_extension": ".py",
   "mimetype": "text/x-python",
   "name": "python",
   "nbconvert_exporter": "python",
   "pygments_lexer": "ipython3",
   "version": "3.9.12"
  }
 },
 "nbformat": 4,
 "nbformat_minor": 5
}
